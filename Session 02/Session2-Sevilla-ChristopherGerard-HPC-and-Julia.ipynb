{
 "cells": [
  {
   "cell_type": "code",
   "execution_count": 1,
   "id": "8a37e811",
   "metadata": {},
   "outputs": [
    {
     "name": "stderr",
     "output_type": "stream",
     "text": [
      "\u001b[32m\u001b[1m  Activating\u001b[22m\u001b[39m new environment at `C:\\Users\\User\\Documents\\Graduate Files\\Physics 215\\Physics-215-Julia-Codes\\Session 02\\Project.toml`\n"
     ]
    }
   ],
   "source": [
    "using Pkg\n",
    "Pkg.activate(\".\");"
   ]
  },
  {
   "cell_type": "markdown",
   "id": "7ff9ffcd",
   "metadata": {},
   "source": [
    "# KR1: The Complete Elliptic Integral of the First Kind\n",
    "\n",
    "In this session, we will make a custom function in Julia that will evaluate the [complete elliptic integral of the first kind](https://mathworld.wolfram.com/CompleteEllipticIntegraloftheFirstKind.html). This physics textbook function is very important in solving the periods of many oscillators, and in particular is used to compute the period of pendulums.\n",
    "\n",
    "Given a simple pendulum with length $\\ell$, mass $m$, and initial angular displacement $\\theta_0$. By conservation of energy, we have\n",
    "\\begin{equation}\n",
    "    -m\\mathrm{g}\\ell\\cos\\theta_0=\\frac{1}{2}m\\ell^2\\dot{\\theta}^2-m\\mathrm{g}\\ell\\cos\\theta.\n",
    "\\end{equation}\n",
    "Then, rearranging terms, dividing both sides by $\\frac{1}{2}m\\ell^2$, rewriting $\\omega_0^2=\\mathrm{g}/\\ell$, using $\\cos\\theta=1-2\\sin^2(\\frac{1}{2}\\theta)$, taking the square root of both sides, and factoring $\\sin^2(\\frac{1}{2}\\theta_0)$, we have\n",
    "\\begin{equation}\n",
    "    \\frac{\\mathrm{d}\\theta}{\\mathrm{d}t}=2\\omega_0\\sin^2\\left(\\tfrac{1}{2}\\theta_0\\right)\\sqrt{1-\\dfrac{\\sin^2\\left(\\tfrac{1}{2}\\theta\\right)}{\\sin^2\\left(\\tfrac{1}{2}\\theta_0\\right)}}.\n",
    "\\end{equation}\n",
    "Then, rearranging terms, integrating both sides with respect to time $t\\in[0,T/4]$ and angular displacement $\\theta\\in[0,\\theta_0]$, where $T$ is the period of the pendulum, we have:\n",
    "\\begin{equation}\n",
    "    T=\\dfrac{2}{\\omega_0}\\int_0^{\\theta_0}\\dfrac{\\mathrm{d}\\theta/\\sin\\left(\\frac{1}{2}\\theta_0\\right)}{\\sqrt{1-\\sin^2\\left(\\tfrac{1}{2}\\theta\\right)/\\sin^2\\left(\\tfrac{1}{2}\\theta_0\\right)}}.\n",
    "\\end{equation}\n",
    "To aid now in evaluating this, we use the substitution $\\sin\\phi=\\sin(\\theta/2)/\\sin(\\theta_0/2)$ so $2\\cos\\phi\\,\\mathrm{d}\\phi/\\cos\\left(\\frac{1}{2}\\theta\\right)=\\mathrm{d}\\theta/\\sin\\left(\\frac{1}{2}\\theta_0\\right)$, thus after many simplifications, and letting $k=\\sin(\\theta_0/2)$, we have period of pendulum is\n",
    "\\begin{equation}\n",
    "    T=\\dfrac{4}{\\omega_0}\\int_0^{\\pi/2}\\dfrac{\\mathrm{d}\\phi}{\\sqrt{1-k^2\\sin^2\\phi}}, \\qquad k=\\sin(\\theta_0/2).\n",
    "\\end{equation}\n",
    "and the integral in the period is the Complete Elliptic Integral of the First Kind.\n",
    "\n",
    "The Complete Elliptic Integral of the First Kind $K(k)$ is given by:\n",
    "\\begin{equation}\n",
    "    K(k)=\\int_0^{\\pi/2}\\dfrac{\\mathrm{d}\\theta}{\\sqrt{1-k^2\\sin^2\\theta}}, \\qquad |k|<1,\n",
    "\\end{equation}\n",
    "However, evaluating the function by integrating this expression would be cumbersome because it does not give you the correct values. ~(I know, I've tried.)~\n",
    "\n",
    "Instead, we use the series expansion of $K(k)$ given in Arfken:\n",
    "\\begin{equation}\n",
    "    K(k)=\\dfrac{\\pi}{2}\\sum_{n=0}^\\infty\\left[\\dfrac{(2n-1)!!}{(2n)!!}\\right]^2k^n=\\dfrac{\\pi}{2}\\left[1+\\left(\\dfrac{1}{2}\\right)^2k+\\left(\\dfrac{1\\cdot3}{2\\cdot4}\\right)^2k^2+\\left(\\dfrac{1\\cdot3\\cdot5}{2\\cdot4\\cdot6}\\right)^2k^3+\\dotsc\\right], \\quad \\abs{k}<1\n",
    "\\end{equation}\n",
    "to reliably evaluate the function.\n",
    "\n",
    "In implementing this form of $K(k)$, we must note that our accuracy is determined by the number of terms we put in our sum.\n",
    "\n",
    "Doing this in Julia, we have the following code."
   ]
  },
  {
   "cell_type": "code",
   "execution_count": 38,
   "id": "2ca257fb",
   "metadata": {},
   "outputs": [],
   "source": [
    "# Evaluates the double factorial\n",
    "function double_factorial(n)\n",
    "    if n < 2\n",
    "        return 1\n",
    "    end\n",
    "    return n * double_factorial(n-2)\n",
    "end\n",
    "\n",
    "# Evaluate the complete elliptic integral of the first kind K(k)\n",
    "function K(k::Float64)\n",
    "    result = (pi/2) * sum((double_factorial(2*n-1)/double_factorial(2*n))^2 * k^n for n=1:150)\n",
    "    return result\n",
    "end;"
   ]
  },
  {
   "cell_type": "markdown",
   "id": "4b53b52e",
   "metadata": {},
   "source": [
    "# KR2: Comparing our ```K(k)``` with Julia's ```ellipk(k)```\n",
    "\n",
    "Let us compare this to the ```ellipk(k)``` function in Julia's ```Special Functions.jl``` [package](https://specialfunctions.juliamath.org/stable/functions_list/#SpecialFunctions.ellipk).\n",
    "\n",
    "To have an overview of the output of ```K(k)``` and ```ellipk(k)```, let us first plot it for $k\\in[0,1)$."
   ]
  },
  {
   "cell_type": "code",
   "execution_count": 44,
   "id": "eb4a512a",
   "metadata": {},
   "outputs": [
    {
     "data": {
      "image/png": "[encoded data removed]"
     },
     "execution_count": 44,
     "metadata": {},
     "output_type": "execute_result"
    }
   ],
   "source": [
    "using SpecialFunctions\n",
    "using Plots\n",
    "\n",
    "# Values of k to evaluate\n",
    "k = 0:0.005:0.990\n",
    "\n",
    "# Arrays where the result will be stored\n",
    "own_func = zeros(length(k))  # To store result of K(k)\n",
    "jul_func = zeros(length(k))  # To store result of ellipk(k)\n",
    "\n",
    "# Result of each function\n",
    "own_func .= K.(k)\n",
    "jul_func .= ellipk.(k);\n",
    "\n",
    "gr()\n",
    "plot(k, [own_func, jul_func], xaxis=\"k\", label=[\"K(k)\" \"ellipk(k)\"], legend=:topleft, lw=3, fmt=:png)"
   ]
  },
  {
   "cell_type": "markdown",
   "id": "ac801a92",
   "metadata": {},
   "source": [
    "To begin, let us see how both ```K(k)``` and ```ellipk(k)``` behave for $k\\in[0,1)$. "
   ]
  }
 ],
 "metadata": {
  "kernelspec": {
   "display_name": "Julia 1.6.2",
   "language": "julia",
   "name": "julia-1.6"
  },
  "language_info": {
   "file_extension": ".jl",
   "mimetype": "application/julia",
   "name": "julia",
   "version": "1.6.2"
  }
 },
 "nbformat": 4,
 "nbformat_minor": 5
}
