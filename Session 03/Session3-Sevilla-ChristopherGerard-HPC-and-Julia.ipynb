{
 "cells": [
  {
   "cell_type": "code",
   "execution_count": 1,
   "id": "cb658a61-10f9-4acc-bfc6-5d5658ccc079",
   "metadata": {},
   "outputs": [
    {
     "name": "stderr",
     "output_type": "stream",
     "text": [
      "\u001b[32m\u001b[1m  Activating\u001b[22m\u001b[39m environment at `C:\\Users\\User\\Documents\\Graduate Files\\Physics 215\\Physics-215-Julia-Codes\\Session 03\\Project.toml`\n"
     ]
    },
    {
     "name": "stdout",
     "output_type": "stream",
     "text": [
      "\u001b[32m\u001b[1m      Status\u001b[22m\u001b[39m `C:\\Users\\User\\Documents\\Graduate Files\\Physics 215\\Physics-215-Julia-Codes\\Session 03\\Project.toml`\n",
      " \u001b[90m [6e4b80f9] \u001b[39mBenchmarkTools v1.2.0\n"
     ]
    }
   ],
   "source": [
    "using Pkg\n",
    "Pkg.activate(\".\");\n",
    "Pkg.status();"
   ]
  },
  {
   "cell_type": "markdown",
   "id": "d7d75e17-13fc-48d4-946f-0590a1d8f426",
   "metadata": {},
   "source": [
    "# KR1: ```Number``` type hierarchy in Julia\n",
    "\n",
    "For the start of the session, we look at the hierarchy of types in Julia under ```Number```. As was shown in the session slides, there are 514 variable data types in Julia, which is a lot! In the field of physics, the most important data type is ```Number```, as in physics, we deal with very many types of numbers. So it is instructive to look at the different data types of ```Number```s that are available to us in Julia.\n",
    "\n",
    "To make it easier to see the ```Number``` type hierarchy in Julia, let us make use of the function shown to give us the ```subtype``` tree under ```Number```. The code used came from [this website](https://julia.quantecon.org/more_julia/generic_programming.html)."
   ]
  },
  {
   "cell_type": "code",
   "execution_count": 2,
   "id": "f90947a3-633d-4c30-a134-a60cfa93fb5e",
   "metadata": {},
   "outputs": [],
   "source": [
    "#  from https://github.com/JuliaLang/julia/issues/24741\n",
    "function subtypetree(t, level=1, indent=4)\n",
    "        if level == 1\n",
    "            println(t)\n",
    "        end\n",
    "        for s in subtypes(t)\n",
    "            println(join(fill(\" \", level * indent)) * string(s))  # print type\n",
    "            subtypetree(s, level+1, indent)  # recursively print the next type, indenting\n",
    "        end\n",
    "end;"
   ]
  },
  {
   "cell_type": "markdown",
   "id": "e0861a30-d0b5-4ca2-a845-f0062afcbf58",
   "metadata": {},
   "source": [
    "With this code, when we now look at the ```subtypetree``` corresponding to the ```Number``` data type, we get."
   ]
  },
  {
   "cell_type": "code",
   "execution_count": 3,
   "id": "a51ee96d-952a-4848-ab59-a38b75c69dec",
   "metadata": {},
   "outputs": [
    {
     "name": "stdout",
     "output_type": "stream",
     "text": [
      "Number\n",
      "    Complex\n",
      "    Real\n",
      "        AbstractFloat\n",
      "            BigFloat\n",
      "            Float16\n",
      "            Float32\n",
      "            Float64\n",
      "        AbstractIrrational\n",
      "            Irrational\n",
      "        Integer\n",
      "            Bool\n",
      "            Signed\n",
      "                BigInt\n",
      "                Int128\n",
      "                Int16\n",
      "                Int32\n",
      "                Int64\n",
      "                Int8\n",
      "            Unsigned\n",
      "                UInt128\n",
      "                UInt16\n",
      "                UInt32\n",
      "                UInt64\n",
      "                UInt8\n",
      "        Rational\n"
     ]
    }
   ],
   "source": [
    "subtypetree(Number)"
   ]
  },
  {
   "cell_type": "markdown",
   "id": "df041da8-c182-4528-af14-8a5e5bbc78cc",
   "metadata": {},
   "source": [
    "From the ```subtypetree``` of ```Number```, we see that there are two large subtypes -- ```Complex```, and ```Real```, and that ```Real``` data type has subtypes while ```Complex``` doesn't. This makes sense since the hallmark of a complex number is the addition of $\\mathrm{i}=\\sqrt{-1}$, and in [Julia](https://docs.julialang.org/en/v1/manual/complex-and-rational-numbers/#Complex-Numbers), this is done with the addition of ```im``` to the number as shown."
   ]
  },
  {
   "cell_type": "code",
   "execution_count": 4,
   "id": "f0a6271e-9d34-4bbd-8b47-6093ec5f936d",
   "metadata": {},
   "outputs": [
    {
     "data": {
      "text/plain": [
       "Complex{Int64}"
      ]
     },
     "execution_count": 4,
     "metadata": {},
     "output_type": "execute_result"
    }
   ],
   "source": [
    "typeof(3 + 2im)"
   ]
  },
  {
   "cell_type": "markdown",
   "id": "5da010d0-99ba-4db2-a49e-2183fde6bc5d",
   "metadata": {},
   "source": [
    "Now we move to the ```Real``` subtype, since it has more subtypes. Out of the subtypes, of particular interest to us is the ```Rational``` and ```AbstractIrrational``` subtypes.\n",
    "\n",
    "Apparently, Julia can handle [```Rational``` numbers](https://docs.julialang.org/en/v1/manual/complex-and-rational-numbers/#Rational-Numbers), mathematically defined as the ratio of two integers. We can define rational numbers through the use of ```//``` symbol, where the number preceding it is the numerator while the number succeeding it is the denominator."
   ]
  },
  {
   "cell_type": "code",
   "execution_count": 5,
   "id": "50420121-a70d-4e10-9de2-506e546caefa",
   "metadata": {},
   "outputs": [
    {
     "data": {
      "text/plain": [
       "Rational{Int64}"
      ]
     },
     "execution_count": 5,
     "metadata": {},
     "output_type": "execute_result"
    }
   ],
   "source": [
    "typeof(22 // 7)"
   ]
  },
  {
   "cell_type": "markdown",
   "id": "c353e7d5-3bea-47e1-bf37-869dadcce3c6",
   "metadata": {},
   "source": [
    "This is a really nice feature as it makes Julia an easier language to do symbolic mathematics with. Python can do the same with the [```fractions``` module](https://docs.python.org/3/library/fractions.html), but to define a fraction, you have to make use of the ```Fraction()``` operator, which makes your code look a little messy, so it is nice that Julia makes it easier for us!\n",
    "\n",
    "On the other hand, we have an ```Irrational``` number subtype, which apparently is the subtype where all the [mathematical constants](https://github.com/JuliaLang/julia/blob/master/base/mathconstants.jl) are stored in. It is nice that Julia has a specific data type to store its constants."
   ]
  },
  {
   "cell_type": "code",
   "execution_count": 6,
   "id": "df675cb0-ba6e-423a-839d-ec84ed7cea00",
   "metadata": {},
   "outputs": [
    {
     "name": "stdout",
     "output_type": "stream",
     "text": [
      "2.718281828459045"
     ]
    },
    {
     "data": {
      "text/plain": [
       "Irrational{:ℯ}"
      ]
     },
     "execution_count": 6,
     "metadata": {},
     "output_type": "execute_result"
    }
   ],
   "source": [
    "print(ℯ^1)\n",
    "typeof(ℯ)"
   ]
  },
  {
   "cell_type": "markdown",
   "id": "911765a3-3124-4768-9136-40778553f057",
   "metadata": {},
   "source": [
    "where ```ℯ``` is the Euler constant as shown.\n",
    "\n",
    "At this point, we now go to the usual subtypes when dealing with ```Number```s -- ```AbstractFloat```, and ```Integer```.\n",
    "\n",
    "As expected, there are different subtypes of ```AbstractFloat``` and ```Integer```, depending on the number of bits are using to store the number into the computer's memory -- 8 bits, 16 bits, 32 bits, 62 bits, and 128 bits for ```Integers```, and 16 bits, 32 bits, and 64 bits for ```AbstractFloat```. As seen in the subtype tree, we also see that there is a ```BigInt``` and ```BigFloat```. As we saw in Session 2, [```BigInt```](https://docs.julialang.org/en/v1/base/numbers/#Base.GMP.BigInt) is a datatype that handles arbitrarily large integers. And in the same vein, [```BigFloat```](https://docs.julialang.org/en/v1/base/numbers/#Base.MPFR.BigFloat) is a datatype that handles arbitarily large floating point numbers.\n",
    "\n",
    "After going down the tree using ```subtype```, we note that we can go the other way around using ```supertype```. In the code shown, we look at the supertype chain starting from ```BigFloat```."
   ]
  },
  {
   "cell_type": "code",
   "execution_count": 7,
   "id": "a3a7652b-335f-4003-bd3f-dbbd2df7117d",
   "metadata": {},
   "outputs": [
    {
     "name": "stdout",
     "output_type": "stream",
     "text": [
      "BigFloat\n",
      "AbstractFloat\n",
      "Real\n",
      "Number\n"
     ]
    }
   ],
   "source": [
    "data_type = BigFloat\n",
    "\n",
    "while data_type != Any\n",
    "    println(data_type)\n",
    "    data_type = supertype(data_type)\n",
    "end"
   ]
  },
  {
   "cell_type": "markdown",
   "id": "f9f8e3e1",
   "metadata": {},
   "source": [
    "# KR2: Constructing ```struct```s\n",
    "\n",
    "Reading about ```struct```s, the first impression I got was that it acted like a class -- it was an object that you could use to store data referring to a single object, like a simple point mass. Normally, when we define a point mass, we have to define its position, velocity, acceleration, and mass individually. With the help of a ```struct```, we can compile all of these properties into one ```struct``` named ```PointMass``` for example, so that when we want to define a point mass, we can just call store the values of its properties into one data type,  ```PointMass```.\n",
    "\n",
    "With ```struct```s, like ```class```es, you can put functions inside them so that once you have the basic properties, you can get back a derived property that you are most likely going to use later on in your program. However, apparently this is [not necessarily true](https://www.fluentcpp.com/2017/06/13/the-real-difference-between-struct-class/) all the time. While you can do pretty much the same basic things with ```struct```s as you would with ```class```es, there are some limitations. In the raw sense, ```struct```s are static variables, which mean you cannot change their values once you initialize them.\n",
    "\n",
    "To give an example, let us define our own ```struct``` influenced by music."
   ]
  },
  {
   "cell_type": "code",
   "execution_count": 8,
   "id": "72246e87-f6e7-46cd-9a2b-2f57d8eb0caf",
   "metadata": {},
   "outputs": [],
   "source": [
    "struct InstrumentTimbre\n",
    "    amplitude_color::Vector{Float64}\n",
    "    frequency_color::Vector{Int16}\n",
    "end"
   ]
  },
  {
   "cell_type": "markdown",
   "id": "e4517416",
   "metadata": {},
   "source": [
    "Our struct here is used to store the timbre of a musical instrument. Every musical instrument has its own timbre, i.e. distinct characteristic sound, that can be measured by looking at the Fourier transform of the sound it makes. So to mimic it, we store the frequency/harmonics it produces, and their corresponding amplitudes. Further, we define amplitudes to be a floating point number, while frequencies to be only integers from 1 Hz to 32767 Hz, which is more than enough for us.\n",
    "\n",
    "Another thing I noticed while making this is that once you defined the struct, you can no longer modify it, so let's say I defined my struct to take in ```Vectors```, but decided that one should have a vector of ```Float64``` numbers while the other, ```Int16```. To do so, I have to restart the kernel and run it because after running it once and naively modifying it, Julia will throw an exception saying I have an invalid redefinition of my struct. One extra thing to take note of!\n",
    "\n",
    "Ok, let's try to use our newly made ```struct```. Let us define an imaginary instrument with amplitude color of ```amp``` and frequency color of ```freq```, and define a variable ```theo_inst``` that has these properties."
   ]
  },
  {
   "cell_type": "code",
   "execution_count": 9,
   "id": "444a3ea3",
   "metadata": {},
   "outputs": [
    {
     "data": {
      "text/plain": [
       "InstrumentTimbre([0.6238263848318208, 0.7732939846459512, 0.4816756201854966, 0.5222909210989564, 0.6963331960744938, 0.7245521028112334, 0.03991443000558159, 0.46907895891340434, 0.32172200295571973, 0.022215288543705247  …  0.0736532671743182, 0.021830195885000014, 0.701099661321174, 0.018709718304898537, 0.1677910500565789, 0.05214052226234922, 0.30315646409176655, 0.020500369976524713, 0.9068433886857288, 0.800488465736581], Int16[1, 2, 3, 4, 5, 6, 7, 8, 9, 10  …  32758, 32759, 32760, 32761, 32762, 32763, 32764, 32765, 32766, 32767])"
      ]
     },
     "execution_count": 9,
     "metadata": {},
     "output_type": "execute_result"
    }
   ],
   "source": [
    "amp = rand(32767)\n",
    "freq = 1:32767\n",
    "\n",
    "theo_inst = InstrumentTimbre(amp, freq)"
   ]
  },
  {
   "cell_type": "markdown",
   "id": "59cfed49",
   "metadata": {},
   "source": [
    "So that when we want to retrieve the properties of this instrument such as the ```amplitude color```, we can simply call."
   ]
  },
  {
   "cell_type": "code",
   "execution_count": 10,
   "id": "0f8a115c",
   "metadata": {},
   "outputs": [
    {
     "data": {
      "text/plain": [
       "32767-element Vector{Float64}:\n",
       " 0.6238263848318208\n",
       " 0.7732939846459512\n",
       " 0.4816756201854966\n",
       " 0.5222909210989564\n",
       " 0.6963331960744938\n",
       " 0.7245521028112334\n",
       " 0.03991443000558159\n",
       " 0.46907895891340434\n",
       " 0.32172200295571973\n",
       " 0.022215288543705247\n",
       " 0.830544163138746\n",
       " 0.49790659887352495\n",
       " 0.6217617741831618\n",
       " ⋮\n",
       " 0.6385428746760016\n",
       " 0.8117271555085341\n",
       " 0.0736532671743182\n",
       " 0.021830195885000014\n",
       " 0.701099661321174\n",
       " 0.018709718304898537\n",
       " 0.1677910500565789\n",
       " 0.05214052226234922\n",
       " 0.30315646409176655\n",
       " 0.020500369976524713\n",
       " 0.9068433886857288\n",
       " 0.800488465736581"
      ]
     },
     "execution_count": 10,
     "metadata": {},
     "output_type": "execute_result"
    }
   ],
   "source": [
    "theo_inst.amplitude_color"
   ]
  },
  {
   "cell_type": "markdown",
   "id": "535452a2",
   "metadata": {},
   "source": [
    "Like classes, we can define multiple theoretical instruments using our ```struct```, however we cannot modify the properties of these theoretical instruments once they have been instantiated. For example, let us try to change the ```amplitude_color``` of ```theo_inst```."
   ]
  },
  {
   "cell_type": "code",
   "execution_count": 11,
   "id": "6464ad08",
   "metadata": {},
   "outputs": [
    {
     "ename": "LoadError",
     "evalue": "setfield! immutable struct of type InstrumentTimbre cannot be changed",
     "output_type": "error",
     "traceback": [
      "setfield! immutable struct of type InstrumentTimbre cannot be changed",
      "",
      "Stacktrace:",
      " [1] setproperty!(x::InstrumentTimbre, f::Symbol, v::Vector{Float64})",
      "   @ Base .\\Base.jl:34",
      " [2] top-level scope",
      "   @ In[11]:3",
      " [3] eval",
      "   @ .\\boot.jl:360 [inlined]",
      " [4] include_string(mapexpr::typeof(REPL.softscope), mod::Module, code::String, filename::String)",
      "   @ Base .\\loading.jl:1116"
     ]
    }
   ],
   "source": [
    "new_amp = rand(32767)\n",
    "\n",
    "theo_inst.amplitude_color = new_amp"
   ]
  },
  {
   "cell_type": "markdown",
   "id": "b823324b",
   "metadata": {},
   "source": [
    "Which is because the object ```theo_inst``` is stored into a specific location in memory and as was shown in the session, Julia does not allow changes in values stored in a specific reference location.\n",
    "\n",
    "To alleviate this, we can define a ```mutable struct``` version of the ```struct``` as follows."
   ]
  },
  {
   "cell_type": "code",
   "execution_count": 12,
   "id": "9222d098",
   "metadata": {},
   "outputs": [],
   "source": [
    "mutable struct InstrumentTimbreMut\n",
    "    amplitude_color::Vector{Float64}\n",
    "    frequency_color::Vector{Int16}\n",
    "end"
   ]
  },
  {
   "cell_type": "markdown",
   "id": "44e802a0",
   "metadata": {},
   "source": [
    "Then defining a new theoretical instrument ```theo_inst_2```,"
   ]
  },
  {
   "cell_type": "code",
   "execution_count": 13,
   "id": "40c9d0de",
   "metadata": {},
   "outputs": [
    {
     "data": {
      "text/plain": [
       "InstrumentTimbreMut([0.0489925625257821, 0.17148275951563452, 0.6960605632155494, 0.7534333237795474, 0.49384647095667633, 0.7223317041041089, 0.18056696603987477, 0.020469676496909894, 0.1679117857717558, 0.25042652320391623  …  0.7138683903672491, 0.864768556914878, 0.21565874653234962, 0.19285136636757083, 0.7123385967299003, 0.9730694521683287, 0.7279875361543879, 0.46340570323229535, 0.3668342225860377, 0.053074118079940336], Int16[1, 2, 3, 4, 5, 6, 7, 8, 9, 10  …  32758, 32759, 32760, 32761, 32762, 32763, 32764, 32765, 32766, 32767])"
      ]
     },
     "execution_count": 13,
     "metadata": {},
     "output_type": "execute_result"
    }
   ],
   "source": [
    "amp_mut = rand(32767)\n",
    "freq_mut = 1:32767\n",
    "\n",
    "theo_inst_2 = InstrumentTimbreMut(amp_mut, freq_mut)"
   ]
  },
  {
   "cell_type": "markdown",
   "id": "1ea8f01f",
   "metadata": {},
   "source": [
    "Then change the values of ```amp_mut```,"
   ]
  },
  {
   "cell_type": "code",
   "execution_count": 14,
   "id": "fb83fa70",
   "metadata": {},
   "outputs": [
    {
     "data": {
      "text/plain": [
       "InstrumentTimbreMut([0.9353602941387105, 0.18886445795885143, 0.0238022985802826, 1.741434608159019, 1.41412866665171, 1.3949904726382396, 0.8338254376575973, 0.38126462803970984, 0.29385285142289685, 0.5511201150370972  …  1.3924511573544542, 0.8877633228431683, 0.8913355847271829, 0.8491263857791211, 0.6904269983207554, 0.11204632537138126, 0.40324674991809406, 1.3490139087551785, 1.5425813629360174, 1.2874676198511392], Int16[1, 2, 3, 4, 5, 6, 7, 8, 9, 10  …  32758, 32759, 32760, 32761, 32762, 32763, 32764, 32765, 32766, 32767])"
      ]
     },
     "execution_count": 14,
     "metadata": {},
     "output_type": "execute_result"
    }
   ],
   "source": [
    "amp_mut_2 = 2.0*rand(32767)\n",
    "\n",
    "theo_inst_2.amplitude_color = amp_mut_2\n",
    "\n",
    "theo_inst_2"
   ]
  },
  {
   "cell_type": "markdown",
   "id": "f6b3b061",
   "metadata": {},
   "source": [
    "Then Julia allows us to change these properties easily. However, this appear to defeat the purpose of ```struct``` since if you would want to do this, then it would be better to define a class instead. From this example, we see that ```struct```s can be used to create lookup tables to make it easier lookup values that you would want to get back to anytime in your code.\n",
    "\n",
    "There is another type of ```struct``` that you can make in Julia, that is the parametrized ```struct```. With this ```struct```, you may define an object that can take in any type of data (or can be restricted to one supertype), and Julia would be able to determine which object property will store which.\n",
    "\n",
    "When we try to parametrize our ```InstrumentTimbre``` ```struct```, we see that it won't best to do so since it requires a specific data type. In this case, let us define a different ```struct``` that allows this. Thus, to demonstrate this, let us define another ```struct``` that stores the momentum and energy of an object."
   ]
  },
  {
   "cell_type": "code",
   "execution_count": 15,
   "id": "fa571ebe",
   "metadata": {},
   "outputs": [],
   "source": [
    "struct MomentumEnergyPar{T<:Number}\n",
    "    momentum::Vector{T}\n",
    "    energy::T\n",
    "end"
   ]
  },
  {
   "cell_type": "markdown",
   "id": "11a62838",
   "metadata": {},
   "source": [
    "Doing so makes the most out of parametrized ```struct```s as it defines a ```struct``` with object properties with abstract data types, thus when we instantiate it, we immediately see which variable data type will go to which object property."
   ]
  },
  {
   "cell_type": "code",
   "execution_count": 16,
   "id": "c9c91fe0",
   "metadata": {},
   "outputs": [
    {
     "data": {
      "text/plain": [
       "MomentumEnergyPar{Float64}([1.2387781986318869, 4.2142213169565], 3.25)"
      ]
     },
     "execution_count": 16,
     "metadata": {},
     "output_type": "execute_result"
    }
   ],
   "source": [
    "particle_momentum = 5.0*rand(2)\n",
    "particle_energy = 3.25\n",
    "\n",
    "particle_momenergy = MomentumEnergyPar(particle_momentum, particle_energy)"
   ]
  },
  {
   "cell_type": "markdown",
   "id": "ec055281",
   "metadata": {},
   "source": [
    "# KR3: Type Inferencing in Julia\n",
    "\n",
    "Like in Python, Julia can immediately infer the data type you are using depending on the expression or values you input in your expressions. An immediate example would be as follows."
   ]
  },
  {
   "cell_type": "code",
   "execution_count": 17,
   "id": "8f14f08a",
   "metadata": {},
   "outputs": [
    {
     "data": {
      "text/plain": [
       "5-element Vector{Int64}:\n",
       " 1\n",
       " 2\n",
       " 3\n",
       " 4\n",
       " 5"
      ]
     },
     "execution_count": 17,
     "metadata": {},
     "output_type": "execute_result"
    }
   ],
   "source": [
    "[x for x in 1:5]"
   ]
  },
  {
   "cell_type": "code",
   "execution_count": 18,
   "id": "b7bb5c7c",
   "metadata": {},
   "outputs": [
    {
     "data": {
      "text/plain": [
       "5-element Vector{Float64}:\n",
       " 1.0\n",
       " 0.5\n",
       " 0.3333333333333333\n",
       " 0.25\n",
       " 0.2"
      ]
     },
     "execution_count": 18,
     "metadata": {},
     "output_type": "execute_result"
    }
   ],
   "source": [
    "[1/x for x in 1:5]"
   ]
  },
  {
   "cell_type": "markdown",
   "id": "7a3c7ff1",
   "metadata": {},
   "source": [
    "So notice that while we were inputting integers in our generator expressions, Julia was immediately able to infer the data type we are expected to get, that is for ```x``` we will expect an integer, while for ```1/x``` we will expect a floating point number.\n",
    "\n",
    "# KR4 and KR5: Inherent Type-Stability in Julia\n",
    "\n",
    "Now let us see how we can have type-stability for functions in Julia. As stated in [Type Stability in Julia](https://arxiv.org/pdf/2109.01950.pdf) type-stability is the case when the type of the output of a function cannot vary depending on the values of the inputs. In layman's terms, this means that the a function is type-stable if the data type of the output of a function is always the same, independent of the data type of the values that are inputted to it.\n",
    "\n",
    "Let us make an example of a function with type-instability. To demonstrate, let us define a shifted absolute function ```shift_abs(x, a)``` so that\n",
    "\\begin{equation}\n",
    "    \\mathrm{shift\\_abs}(x, a) =\n",
    "    \\begin{cases}\n",
    "        0 & |x|<a \\\\\n",
    "        |x|-a & |x|\\geq a\n",
    "    \\end{cases}\n",
    "\\end{equation}"
   ]
  },
  {
   "cell_type": "code",
   "execution_count": 19,
   "id": "5c2c4a6a",
   "metadata": {},
   "outputs": [],
   "source": [
    "shift_abs(x, a) = abs(x) < a ? 0 : abs(x) - a;"
   ]
  },
  {
   "cell_type": "markdown",
   "id": "dbfef839",
   "metadata": {},
   "source": [
    "We want the function to always output a floating point number. However, when we try certain numbers, we get the following result."
   ]
  },
  {
   "cell_type": "code",
   "execution_count": 20,
   "id": "3a70ef6f",
   "metadata": {},
   "outputs": [
    {
     "name": "stdout",
     "output_type": "stream",
     "text": [
      "Given x=4 and a=5, shift_abs(x, a) = 0, with a data type of Int64.\n",
      "Given x=5 and a=5, shift_abs(x, a) = 0, with a data type of Int64.\n",
      "Given x=6 and a=5, shift_abs(x, a) = 1, with a data type of Int64.\n"
     ]
    }
   ],
   "source": [
    "println(\"Given x=4 and a=5, shift_abs(x, a) = $(shift_abs(4, 5)), with a data type of $(typeof(shift_abs(4, 5))).\")\n",
    "println(\"Given x=5 and a=5, shift_abs(x, a) = $(shift_abs(5, 5)), with a data type of $(typeof(shift_abs(5, 5))).\")\n",
    "println(\"Given x=6 and a=5, shift_abs(x, a) = $(shift_abs(6, 5)), with a data type of $(typeof(shift_abs(6, 5))).\")"
   ]
  },
  {
   "cell_type": "markdown",
   "id": "45ae7aa5",
   "metadata": {},
   "source": [
    "Which is not what we want! Furthermore, if we go with the other way around, we would get a different result."
   ]
  },
  {
   "cell_type": "code",
   "execution_count": 21,
   "id": "d7419ff8",
   "metadata": {},
   "outputs": [
    {
     "name": "stdout",
     "output_type": "stream",
     "text": [
      "Given x=4 and a=5.0, shift_abs(x, a) = 0, with a data type of Int64.\n",
      "Given x=5 and a=5.0, shift_abs(x, a) = 0.0, with a data type of Float64.\n",
      "Given x=6 and a=5.0, shift_abs(x, a) = 1.0, with a data type of Float64.\n"
     ]
    }
   ],
   "source": [
    "println(\"Given x=4 and a=5.0, shift_abs(x, a) = $(shift_abs(4, 5.0)), with a data type of $(typeof(shift_abs(4, 5.0))).\")\n",
    "println(\"Given x=5 and a=5.0, shift_abs(x, a) = $(shift_abs(5, 5.0)), with a data type of $(typeof(shift_abs(5, 5.0))).\")\n",
    "println(\"Given x=6 and a=5.0, shift_abs(x, a) = $(shift_abs(6, 5.0)), with a data type of $(typeof(shift_abs(6, 5.0))).\")"
   ]
  },
  {
   "cell_type": "markdown",
   "id": "7b081c14",
   "metadata": {},
   "source": [
    "So clearly our function is type-unstable! To see it clearly, we use the ```@code_warntype``` macro."
   ]
  },
  {
   "cell_type": "code",
   "execution_count": 22,
   "id": "8334277a",
   "metadata": {},
   "outputs": [
    {
     "name": "stdout",
     "output_type": "stream",
     "text": [
      "Variables\n",
      "  #self#\u001b[36m::Core.Const(shift_abs)\u001b[39m\n",
      "  x\u001b[36m::Int64\u001b[39m\n",
      "  a\u001b[36m::Int64\u001b[39m\n",
      "\n",
      "Body\u001b[36m::Int64\u001b[39m\n",
      "\u001b[90m1 ─\u001b[39m %1 = Main.abs(x)\u001b[36m::Int64\u001b[39m\n",
      "\u001b[90m│  \u001b[39m %2 = (%1 < a)\u001b[36m::Bool\u001b[39m\n",
      "\u001b[90m└──\u001b[39m      goto #3 if not %2\n",
      "\u001b[90m2 ─\u001b[39m      return 0\n",
      "\u001b[90m3 ─\u001b[39m %5 = Main.abs(x)\u001b[36m::Int64\u001b[39m\n",
      "\u001b[90m│  \u001b[39m %6 = (%5 - a)\u001b[36m::Int64\u001b[39m\n",
      "\u001b[90m└──\u001b[39m      return %6\n"
     ]
    }
   ],
   "source": [
    "@code_warntype shift_abs(5, 5)"
   ]
  },
  {
   "cell_type": "code",
   "execution_count": 23,
   "id": "cc1d9813",
   "metadata": {},
   "outputs": [
    {
     "name": "stdout",
     "output_type": "stream",
     "text": [
      "Variables\n",
      "  #self#\u001b[36m::Core.Const(shift_abs)\u001b[39m\n",
      "  x\u001b[36m::Int64\u001b[39m\n",
      "  a\u001b[36m::Float64\u001b[39m\n",
      "\n",
      "Body\u001b[91m\u001b[1m::Union{Float64, Int64}\u001b[22m\u001b[39m\n",
      "\u001b[90m1 ─\u001b[39m %1 = Main.abs(x)\u001b[36m::Int64\u001b[39m\n",
      "\u001b[90m│  \u001b[39m %2 = (%1 < a)\u001b[36m::Bool\u001b[39m\n",
      "\u001b[90m└──\u001b[39m      goto #3 if not %2\n",
      "\u001b[90m2 ─\u001b[39m      return 0\n",
      "\u001b[90m3 ─\u001b[39m %5 = Main.abs(x)\u001b[36m::Int64\u001b[39m\n",
      "\u001b[90m│  \u001b[39m %6 = (%5 - a)\u001b[36m::Float64\u001b[39m\n",
      "\u001b[90m└──\u001b[39m      return %6\n"
     ]
    }
   ],
   "source": [
    "@code_warntype shift_abs(4, 5.0)"
   ]
  },
  {
   "cell_type": "code",
   "execution_count": 24,
   "id": "1ee120e2",
   "metadata": {},
   "outputs": [
    {
     "name": "stdout",
     "output_type": "stream",
     "text": [
      "Variables\n",
      "  #self#\u001b[36m::Core.Const(shift_abs)\u001b[39m\n",
      "  x\u001b[36m::Int64\u001b[39m\n",
      "  a\u001b[36m::Float64\u001b[39m\n",
      "\n",
      "Body\u001b[91m\u001b[1m::Union{Float64, Int64}\u001b[22m\u001b[39m\n",
      "\u001b[90m1 ─\u001b[39m %1 = Main.abs(x)\u001b[36m::Int64\u001b[39m\n",
      "\u001b[90m│  \u001b[39m %2 = (%1 < a)\u001b[36m::Bool\u001b[39m\n",
      "\u001b[90m└──\u001b[39m      goto #3 if not %2\n",
      "\u001b[90m2 ─\u001b[39m      return 0\n",
      "\u001b[90m3 ─\u001b[39m %5 = Main.abs(x)\u001b[36m::Int64\u001b[39m\n",
      "\u001b[90m│  \u001b[39m %6 = (%5 - a)\u001b[36m::Float64\u001b[39m\n",
      "\u001b[90m└──\u001b[39m      return %6\n"
     ]
    }
   ],
   "source": [
    "@code_warntype shift_abs(5, 5.0)"
   ]
  },
  {
   "cell_type": "markdown",
   "id": "63cae728",
   "metadata": {},
   "source": [
    "So it is further clear where the type-instability is coming from. It is from the conversion of data type when the function is being evaluated. To remedy this, then it would be better to define the variables as floating point numbers in the function so that the function will always work with floating point numbers."
   ]
  },
  {
   "cell_type": "code",
   "execution_count": 25,
   "id": "72598e1b",
   "metadata": {},
   "outputs": [],
   "source": [
    "shift_abs_stable(x, a) = abs(x) < a ? 0.0 : abs(x) - 1.0*a;"
   ]
  },
  {
   "cell_type": "markdown",
   "id": "e10ff1c3",
   "metadata": {},
   "source": [
    "So that now, when we evaluate the function for the same parameters, we get:"
   ]
  },
  {
   "cell_type": "code",
   "execution_count": 26,
   "id": "e141d5c3",
   "metadata": {},
   "outputs": [
    {
     "name": "stdout",
     "output_type": "stream",
     "text": [
      "Given x=4 and a=5, shift_abs_stable(x, a) = 0.0, with a data type of Float64.\n",
      "Given x=5 and a=5, shift_abs_stable(x, a) = 0.0, with a data type of Float64.\n",
      "Given x=6 and a=5, shift_abs_stable(x, a) = 1.0, with a data type of Float64.\n",
      "Given x=4 and a=5.0, shift_abs_stable(x, a) = 0.0, with a data type of Float64.\n",
      "Given x=5 and a=5.0, shift_abs_stable(x, a) = 0.0, with a data type of Float64.\n",
      "Given x=6 and a=5.0, shift_abs_stable(x, a) = 1.0, with a data type of Float64.\n"
     ]
    }
   ],
   "source": [
    "println(\"Given x=4 and a=5, shift_abs_stable(x, a) = $(shift_abs_stable(4, 5)), with a data type of $(typeof(shift_abs_stable(4, 5))).\")\n",
    "println(\"Given x=5 and a=5, shift_abs_stable(x, a) = $(shift_abs_stable(5, 5)), with a data type of $(typeof(shift_abs_stable(5, 5))).\")\n",
    "println(\"Given x=6 and a=5, shift_abs_stable(x, a) = $(shift_abs_stable(6, 5)), with a data type of $(typeof(shift_abs_stable(6, 5))).\")\n",
    "\n",
    "println(\"Given x=4 and a=5.0, shift_abs_stable(x, a) = $(shift_abs_stable(4, 5.0)), with a data type of $(typeof(shift_abs_stable(4, 5.0))).\")\n",
    "println(\"Given x=5 and a=5.0, shift_abs_stable(x, a) = $(shift_abs_stable(5, 5.0)), with a data type of $(typeof(shift_abs_stable(5, 5.0))).\")\n",
    "println(\"Given x=6 and a=5.0, shift_abs_stable(x, a) = $(shift_abs_stable(6, 5.0)), with a data type of $(typeof(shift_abs_stable(6, 5.0))).\")"
   ]
  },
  {
   "cell_type": "markdown",
   "id": "84ca29ec",
   "metadata": {},
   "source": [
    "Then running the ```@code_warntype``` macro, we have:"
   ]
  },
  {
   "cell_type": "code",
   "execution_count": 27,
   "id": "b255c55d",
   "metadata": {},
   "outputs": [
    {
     "name": "stdout",
     "output_type": "stream",
     "text": [
      "Variables\n",
      "  #self#\u001b[36m::Core.Const(shift_abs_stable)\u001b[39m\n",
      "  x\u001b[36m::Int64\u001b[39m\n",
      "  a\u001b[36m::Int64\u001b[39m\n",
      "\n",
      "Body\u001b[36m::Float64\u001b[39m\n",
      "\u001b[90m1 ─\u001b[39m %1 = Main.abs(x)\u001b[36m::Int64\u001b[39m\n",
      "\u001b[90m│  \u001b[39m %2 = (%1 < a)\u001b[36m::Bool\u001b[39m\n",
      "\u001b[90m└──\u001b[39m      goto #3 if not %2\n",
      "\u001b[90m2 ─\u001b[39m      return 0.0\n",
      "\u001b[90m3 ─\u001b[39m %5 = Main.abs(x)\u001b[36m::Int64\u001b[39m\n",
      "\u001b[90m│  \u001b[39m %6 = (1.0 * a)\u001b[36m::Float64\u001b[39m\n",
      "\u001b[90m│  \u001b[39m %7 = (%5 - %6)\u001b[36m::Float64\u001b[39m\n",
      "\u001b[90m└──\u001b[39m      return %7\n"
     ]
    }
   ],
   "source": [
    "@code_warntype shift_abs_stable(5, 5)"
   ]
  },
  {
   "cell_type": "code",
   "execution_count": 28,
   "id": "be24ee60",
   "metadata": {},
   "outputs": [
    {
     "name": "stdout",
     "output_type": "stream",
     "text": [
      "Variables\n",
      "  #self#\u001b[36m::Core.Const(shift_abs_stable)\u001b[39m\n",
      "  x\u001b[36m::Int64\u001b[39m\n",
      "  a\u001b[36m::Float64\u001b[39m\n",
      "\n",
      "Body\u001b[36m::Float64\u001b[39m\n",
      "\u001b[90m1 ─\u001b[39m %1 = Main.abs(x)\u001b[36m::Int64\u001b[39m\n",
      "\u001b[90m│  \u001b[39m %2 = (%1 < a)\u001b[36m::Bool\u001b[39m\n",
      "\u001b[90m└──\u001b[39m      goto #3 if not %2\n",
      "\u001b[90m2 ─\u001b[39m      return 0.0\n",
      "\u001b[90m3 ─\u001b[39m %5 = Main.abs(x)\u001b[36m::Int64\u001b[39m\n",
      "\u001b[90m│  \u001b[39m %6 = (1.0 * a)\u001b[36m::Float64\u001b[39m\n",
      "\u001b[90m│  \u001b[39m %7 = (%5 - %6)\u001b[36m::Float64\u001b[39m\n",
      "\u001b[90m└──\u001b[39m      return %7\n"
     ]
    }
   ],
   "source": [
    "@code_warntype shift_abs_stable(4, 5.0)"
   ]
  },
  {
   "cell_type": "code",
   "execution_count": 29,
   "id": "1691ca3e",
   "metadata": {},
   "outputs": [
    {
     "name": "stdout",
     "output_type": "stream",
     "text": [
      "Variables\n",
      "  #self#\u001b[36m::Core.Const(shift_abs_stable)\u001b[39m\n",
      "  x\u001b[36m::Int64\u001b[39m\n",
      "  a\u001b[36m::Float64\u001b[39m\n",
      "\n",
      "Body\u001b[36m::Float64\u001b[39m\n",
      "\u001b[90m1 ─\u001b[39m %1 = Main.abs(x)\u001b[36m::Int64\u001b[39m\n",
      "\u001b[90m│  \u001b[39m %2 = (%1 < a)\u001b[36m::Bool\u001b[39m\n",
      "\u001b[90m└──\u001b[39m      goto #3 if not %2\n",
      "\u001b[90m2 ─\u001b[39m      return 0.0\n",
      "\u001b[90m3 ─\u001b[39m %5 = Main.abs(x)\u001b[36m::Int64\u001b[39m\n",
      "\u001b[90m│  \u001b[39m %6 = (1.0 * a)\u001b[36m::Float64\u001b[39m\n",
      "\u001b[90m│  \u001b[39m %7 = (%5 - %6)\u001b[36m::Float64\u001b[39m\n",
      "\u001b[90m└──\u001b[39m      return %7\n"
     ]
    }
   ],
   "source": [
    "@code_warntype shift_abs_stable(5, 5.0)"
   ]
  },
  {
   "cell_type": "markdown",
   "id": "24d608ea",
   "metadata": {},
   "source": [
    "Which is what we want.\n",
    "\n",
    "# KR6 Arrays with ```AbstractType``` values\n",
    "\n",
    "Lastly, let us investigate how our code would perform if we had used ```AbstractType``` values vs specific type values. First, we define two arrays:"
   ]
  },
  {
   "cell_type": "code",
   "execution_count": 30,
   "id": "3ce30ae3",
   "metadata": {},
   "outputs": [],
   "source": [
    "int_array = Int64[1, 2, 3, 4, 5, 6, 7, 8, 9, 10, 11, 12, 13, 14, 15, 16, 17, 18, 19, 20]\n",
    "num_array = Number[1, 2, 3, 4, 5, 6, 7, 8, 9, 10, 11, 12, 13, 14, 15, 16, 17, 18, 19, 20];"
   ]
  },
  {
   "cell_type": "markdown",
   "id": "5cc9feea",
   "metadata": {},
   "source": [
    "Let us pass these functions to the ```sum()``` function in Julia. Doing so, we get:"
   ]
  },
  {
   "cell_type": "code",
   "execution_count": 31,
   "id": "c2ae1743",
   "metadata": {},
   "outputs": [
    {
     "name": "stdout",
     "output_type": "stream",
     "text": [
      "The sum of integers is 210 with data type Int64.\n",
      "The sum of numbers is 210 with data type Int64.\n"
     ]
    }
   ],
   "source": [
    "println(\"The sum of integers is $(sum(int_array)) with data type $(typeof(sum(int_array))).\")\n",
    "println(\"The sum of numbers is $(sum(num_array)) with data type $(typeof(sum(num_array))).\")"
   ]
  },
  {
   "cell_type": "markdown",
   "id": "b18d4443",
   "metadata": {},
   "source": [
    "So we get the same result good! But let us see how it will work when we benchmark it."
   ]
  },
  {
   "cell_type": "code",
   "execution_count": 32,
   "id": "d40cffb8",
   "metadata": {},
   "outputs": [
    {
     "data": {
      "text/plain": [
       "BenchmarkTools.Trial: 10000 samples with 1000 evaluations.\n",
       " Range \u001b[90m(\u001b[39m\u001b[36m\u001b[1mmin\u001b[22m\u001b[39m … \u001b[35mmax\u001b[39m\u001b[90m):  \u001b[39m\u001b[36m\u001b[1m5.100 ns\u001b[22m\u001b[39m … \u001b[35m9.900 ns\u001b[39m  \u001b[90m┊\u001b[39m GC \u001b[90m(\u001b[39mmin … max\u001b[90m): \u001b[39m0.00% … 0.00%\n",
       " Time  \u001b[90m(\u001b[39m\u001b[34m\u001b[1mmedian\u001b[22m\u001b[39m\u001b[90m):     \u001b[39m\u001b[34m\u001b[1m5.200 ns             \u001b[22m\u001b[39m\u001b[90m┊\u001b[39m GC \u001b[90m(\u001b[39mmedian\u001b[90m):    \u001b[39m0.00%\n",
       " Time  \u001b[90m(\u001b[39m\u001b[32m\u001b[1mmean\u001b[22m\u001b[39m ± \u001b[32mσ\u001b[39m\u001b[90m):   \u001b[39m\u001b[32m\u001b[1m5.182 ns\u001b[22m\u001b[39m ± \u001b[32m0.115 ns\u001b[39m  \u001b[90m┊\u001b[39m GC \u001b[90m(\u001b[39mmean ± σ\u001b[90m):  \u001b[39m0.00% ± 0.00%\n",
       "\n",
       "  \u001b[39m▇\u001b[39m \u001b[39m \u001b[39m \u001b[39m \u001b[39m \u001b[39m \u001b[39m \u001b[39m \u001b[39m \u001b[39m \u001b[39m \u001b[39m \u001b[39m \u001b[39m \u001b[39m \u001b[32m \u001b[39m\u001b[39m \u001b[39m█\u001b[34m \u001b[39m\u001b[39m \u001b[39m \u001b[39m \u001b[39m \u001b[39m \u001b[39m \u001b[39m \u001b[39m \u001b[39m \u001b[39m \u001b[39m \u001b[39m \u001b[39m \u001b[39m \u001b[39m \u001b[39m \u001b[39m \u001b[39m▁\u001b[39m \u001b[39m \u001b[39m \u001b[39m \u001b[39m \u001b[39m \u001b[39m \u001b[39m \u001b[39m \u001b[39m \u001b[39m \u001b[39m \u001b[39m \u001b[39m \u001b[39m \u001b[39m \u001b[39m \u001b[39m \u001b[39m▂\u001b[39m \u001b[39m▁\n",
       "  \u001b[39m█\u001b[39m▁\u001b[39m▁\u001b[39m▁\u001b[39m▁\u001b[39m▁\u001b[39m▁\u001b[39m▁\u001b[39m▁\u001b[39m▁\u001b[39m▁\u001b[39m▁\u001b[39m▁\u001b[39m▁\u001b[39m▁\u001b[39m▁\u001b[32m▁\u001b[39m\u001b[39m▁\u001b[39m█\u001b[34m▁\u001b[39m\u001b[39m▁\u001b[39m▁\u001b[39m▁\u001b[39m▁\u001b[39m▁\u001b[39m▁\u001b[39m▁\u001b[39m▁\u001b[39m▁\u001b[39m▁\u001b[39m▁\u001b[39m▁\u001b[39m▁\u001b[39m▁\u001b[39m▁\u001b[39m▁\u001b[39m▁\u001b[39m█\u001b[39m▁\u001b[39m▁\u001b[39m▁\u001b[39m▁\u001b[39m▁\u001b[39m▁\u001b[39m▁\u001b[39m▁\u001b[39m▁\u001b[39m▁\u001b[39m▁\u001b[39m▁\u001b[39m▁\u001b[39m▁\u001b[39m▁\u001b[39m▁\u001b[39m▁\u001b[39m▁\u001b[39m█\u001b[39m \u001b[39m█\n",
       "  5.1 ns\u001b[90m      \u001b[39m\u001b[90mHistogram: \u001b[39m\u001b[90m\u001b[1mlog(\u001b[22m\u001b[39m\u001b[90mfrequency\u001b[39m\u001b[90m\u001b[1m)\u001b[22m\u001b[39m\u001b[90m by time\u001b[39m      5.4 ns \u001b[0m\u001b[1m<\u001b[22m\n",
       "\n",
       " Memory estimate\u001b[90m: \u001b[39m\u001b[33m0 bytes\u001b[39m, allocs estimate\u001b[90m: \u001b[39m\u001b[33m0\u001b[39m."
      ]
     },
     "execution_count": 32,
     "metadata": {},
     "output_type": "execute_result"
    }
   ],
   "source": [
    "using BenchmarkTools\n",
    "\n",
    "perf_int = @benchmark sum($int_array)"
   ]
  },
  {
   "cell_type": "code",
   "execution_count": 33,
   "id": "244bdf52",
   "metadata": {},
   "outputs": [
    {
     "data": {
      "text/plain": [
       "BenchmarkTools.Trial: 10000 samples with 600 evaluations.\n",
       " Range \u001b[90m(\u001b[39m\u001b[36m\u001b[1mmin\u001b[22m\u001b[39m … \u001b[35mmax\u001b[39m\u001b[90m):  \u001b[39m\u001b[36m\u001b[1m200.833 ns\u001b[22m\u001b[39m … \u001b[35m322.333 ns\u001b[39m  \u001b[90m┊\u001b[39m GC \u001b[90m(\u001b[39mmin … max\u001b[90m): \u001b[39m0.00% … 0.00%\n",
       " Time  \u001b[90m(\u001b[39m\u001b[34m\u001b[1mmedian\u001b[22m\u001b[39m\u001b[90m):     \u001b[39m\u001b[34m\u001b[1m211.833 ns               \u001b[22m\u001b[39m\u001b[90m┊\u001b[39m GC \u001b[90m(\u001b[39mmedian\u001b[90m):    \u001b[39m0.00%\n",
       " Time  \u001b[90m(\u001b[39m\u001b[32m\u001b[1mmean\u001b[22m\u001b[39m ± \u001b[32mσ\u001b[39m\u001b[90m):   \u001b[39m\u001b[32m\u001b[1m212.030 ns\u001b[22m\u001b[39m ± \u001b[32m  3.285 ns\u001b[39m  \u001b[90m┊\u001b[39m GC \u001b[90m(\u001b[39mmean ± σ\u001b[90m):  \u001b[39m0.00% ± 0.00%\n",
       "\n",
       "  \u001b[39m \u001b[39m \u001b[39m \u001b[39m \u001b[39m \u001b[39m \u001b[39m \u001b[39m \u001b[39m \u001b[39m \u001b[39m \u001b[39m \u001b[39m \u001b[39m \u001b[39m \u001b[39m \u001b[39m \u001b[39m \u001b[39m \u001b[39m \u001b[39m▁\u001b[39m \u001b[39m \u001b[39m▂\u001b[39m \u001b[39m▅\u001b[39m▇\u001b[39m▃\u001b[39m▇\u001b[34m█\u001b[39m\u001b[32m▄\u001b[39m\u001b[39m▅\u001b[39m▅\u001b[39m▂\u001b[39m \u001b[39m \u001b[39m \u001b[39m \u001b[39m \u001b[39m \u001b[39m \u001b[39m \u001b[39m \u001b[39m \u001b[39m \u001b[39m \u001b[39m \u001b[39m \u001b[39m \u001b[39m \u001b[39m \u001b[39m \u001b[39m \u001b[39m \u001b[39m \u001b[39m \u001b[39m \u001b[39m \u001b[39m \u001b[39m▁\u001b[39m▁\u001b[39m \u001b[39m▂\n",
       "  \u001b[39m▃\u001b[39m▁\u001b[39m▁\u001b[39m▁\u001b[39m▁\u001b[39m▁\u001b[39m▁\u001b[39m▃\u001b[39m▆\u001b[39m▄\u001b[39m▁\u001b[39m▁\u001b[39m▃\u001b[39m▁\u001b[39m▁\u001b[39m▁\u001b[39m▆\u001b[39m▇\u001b[39m▅\u001b[39m▆\u001b[39m█\u001b[39m▅\u001b[39m▇\u001b[39m█\u001b[39m▆\u001b[39m█\u001b[39m█\u001b[39m█\u001b[39m█\u001b[34m█\u001b[39m\u001b[32m█\u001b[39m\u001b[39m█\u001b[39m█\u001b[39m█\u001b[39m█\u001b[39m█\u001b[39m█\u001b[39m▆\u001b[39m▆\u001b[39m▆\u001b[39m▆\u001b[39m▆\u001b[39m▆\u001b[39m▆\u001b[39m▅\u001b[39m▆\u001b[39m▄\u001b[39m▄\u001b[39m▄\u001b[39m▄\u001b[39m▆\u001b[39m▄\u001b[39m▄\u001b[39m▅\u001b[39m▆\u001b[39m▅\u001b[39m▆\u001b[39m█\u001b[39m▆\u001b[39m█\u001b[39m█\u001b[39m \u001b[39m█\n",
       "  201 ns\u001b[90m        \u001b[39m\u001b[90mHistogram: \u001b[39m\u001b[90m\u001b[1mlog(\u001b[22m\u001b[39m\u001b[90mfrequency\u001b[39m\u001b[90m\u001b[1m)\u001b[22m\u001b[39m\u001b[90m by time\u001b[39m        224 ns \u001b[0m\u001b[1m<\u001b[22m\n",
       "\n",
       " Memory estimate\u001b[90m: \u001b[39m\u001b[33m0 bytes\u001b[39m, allocs estimate\u001b[90m: \u001b[39m\u001b[33m0\u001b[39m."
      ]
     },
     "execution_count": 33,
     "metadata": {},
     "output_type": "execute_result"
    }
   ],
   "source": [
    "perf_num = @benchmark sum($num_array)"
   ]
  },
  {
   "cell_type": "markdown",
   "id": "e22e4c33",
   "metadata": {},
   "source": [
    "So that taking the ratio of the median time of evaluation between the two arrays, we have:"
   ]
  },
  {
   "cell_type": "code",
   "execution_count": 34,
   "id": "7f517c45",
   "metadata": {},
   "outputs": [
    {
     "name": "stdout",
     "output_type": "stream",
     "text": [
      "Ratio of time to evaluate with num_array with that for int_array is 40.73717948717949.\n"
     ]
    }
   ],
   "source": [
    "println(\"Ratio of time to evaluate with num_array with that for int_array is $(median(perf_num.times)/median(perf_int.times)).\")"
   ]
  },
  {
   "cell_type": "markdown",
   "id": "2ee28cc9",
   "metadata": {},
   "source": [
    "Thus it takes 40 times as much time for an abstract type array to be evaluated compared to a specific type array!"
   ]
  }
 ],
 "metadata": {
  "kernelspec": {
   "display_name": "Julia 1.6.2",
   "language": "julia",
   "name": "julia-1.6"
  },
  "language_info": {
   "file_extension": ".jl",
   "mimetype": "application/julia",
   "name": "julia",
   "version": "1.6.2"
  }
 },
 "nbformat": 4,
 "nbformat_minor": 5
}
