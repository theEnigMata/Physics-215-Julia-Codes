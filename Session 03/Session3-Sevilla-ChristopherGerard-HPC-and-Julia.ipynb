{
 "cells": [
  {
   "cell_type": "code",
   "execution_count": 1,
   "id": "cb658a61-10f9-4acc-bfc6-5d5658ccc079",
   "metadata": {},
   "outputs": [
    {
     "name": "stderr",
     "output_type": "stream",
     "text": [
      "\u001b[32m\u001b[1m  Activating\u001b[22m\u001b[39m new environment at `C:\\Users\\User\\Documents\\Graduate Files\\Physics 215\\Physics-215-Julia-Codes\\Session 03\\Project.toml`\n"
     ]
    },
    {
     "name": "stdout",
     "output_type": "stream",
     "text": [
      "\u001b[32m\u001b[1m      Status\u001b[22m\u001b[39m `C:\\Users\\User\\Documents\\Graduate Files\\Physics 215\\Physics-215-Julia-Codes\\Session 03\\Project.toml` (empty project)\n"
     ]
    }
   ],
   "source": [
    "using Pkg\n",
    "Pkg.activate(\".\");\n",
    "Pkg.status();"
   ]
  },
  {
   "cell_type": "markdown",
   "id": "d7d75e17-13fc-48d4-946f-0590a1d8f426",
   "metadata": {},
   "source": [
    "# KR1 ```Number``` type hierarchy in Julia\n",
    "\n",
    "For the start of the session, we look at the hierarchy of types in Julia under ```Number```. As was shown in the session slides, there are 514 variable data types in Julia, which is a lot! In the field of physics, the most important data type is ```Number```, as in physics, we deal with very many types of numbers. So it is instructive to look at the different data types of ```Number```s that are available to us in Julia.\n",
    "\n",
    "To make it easier to see the ```Number``` type hierarchy in Julia, let us make use of the function shown to give us the ```subtype``` tree under ```Number```. The code used came from [this website](https://julia.quantecon.org/more_julia/generic_programming.html)."
   ]
  },
  {
   "cell_type": "code",
   "execution_count": 2,
   "id": "f90947a3-633d-4c30-a134-a60cfa93fb5e",
   "metadata": {},
   "outputs": [],
   "source": [
    "#  from https://github.com/JuliaLang/julia/issues/24741\n",
    "function subtypetree(t, level=1, indent=4)\n",
    "        if level == 1\n",
    "            println(t)\n",
    "        end\n",
    "        for s in subtypes(t)\n",
    "            println(join(fill(\" \", level * indent)) * string(s))  # print type\n",
    "            subtypetree(s, level+1, indent)  # recursively print the next type, indenting\n",
    "        end\n",
    "end;"
   ]
  },
  {
   "cell_type": "markdown",
   "id": "e0861a30-d0b5-4ca2-a845-f0062afcbf58",
   "metadata": {},
   "source": [
    "With this code, when we now look at the ```subtypetree``` corresponding to the ```Number``` data type, we get."
   ]
  },
  {
   "cell_type": "code",
   "execution_count": 3,
   "id": "a51ee96d-952a-4848-ab59-a38b75c69dec",
   "metadata": {},
   "outputs": [
    {
     "name": "stdout",
     "output_type": "stream",
     "text": [
      "Number\n",
      "    Complex\n",
      "    Real\n",
      "        AbstractFloat\n",
      "            BigFloat\n",
      "            Float16\n",
      "            Float32\n",
      "            Float64\n",
      "        AbstractIrrational\n",
      "            Irrational\n",
      "        Integer\n",
      "            Bool\n",
      "            Signed\n",
      "                BigInt\n",
      "                Int128\n",
      "                Int16\n",
      "                Int32\n",
      "                Int64\n",
      "                Int8\n",
      "            Unsigned\n",
      "                UInt128\n",
      "                UInt16\n",
      "                UInt32\n",
      "                UInt64\n",
      "                UInt8\n",
      "        Rational\n"
     ]
    }
   ],
   "source": [
    "subtypetree(Number)"
   ]
  },
  {
   "cell_type": "markdown",
   "id": "df041da8-c182-4528-af14-8a5e5bbc78cc",
   "metadata": {},
   "source": [
    "From the ```subtypetree``` of ```Number```, we see that there are two large subtypes -- ```Complex```, and ```Real```, and that ```Real``` data type has subtypes while ```Complex``` doesn't. This makes sense since the hallmark of a complex number is the addition of $\\mathrm{i}=\\sqrt{-1}$, and in [Julia](https://docs.julialang.org/en/v1/manual/complex-and-rational-numbers/#Complex-Numbers), this is done with the addition of ```im``` to the number as shown."
   ]
  },
  {
   "cell_type": "code",
   "execution_count": 4,
   "id": "f0a6271e-9d34-4bbd-8b47-6093ec5f936d",
   "metadata": {},
   "outputs": [
    {
     "data": {
      "text/plain": [
       "Complex{Int64}"
      ]
     },
     "execution_count": 4,
     "metadata": {},
     "output_type": "execute_result"
    }
   ],
   "source": [
    "typeof(3 + 2im)"
   ]
  },
  {
   "cell_type": "markdown",
   "id": "5da010d0-99ba-4db2-a49e-2183fde6bc5d",
   "metadata": {},
   "source": [
    "Now we move to the ```Real``` subtype, since it has more subtypes. Out of the subtypes, of particular interest to us is the ```Rational``` and ```AbstractIrrational``` subtypes.\n",
    "\n",
    "Apparently, Julia can handle [```Rational``` numbers](https://docs.julialang.org/en/v1/manual/complex-and-rational-numbers/#Rational-Numbers), mathematically defined as the ratio of two integers. We can define rational numbers through the use of ```//``` symbol, where the number preceding it is the numerator while the number succeeding it is the denominator."
   ]
  },
  {
   "cell_type": "code",
   "execution_count": 5,
   "id": "50420121-a70d-4e10-9de2-506e546caefa",
   "metadata": {},
   "outputs": [
    {
     "data": {
      "text/plain": [
       "Rational{Int64}"
      ]
     },
     "execution_count": 5,
     "metadata": {},
     "output_type": "execute_result"
    }
   ],
   "source": [
    "typeof(22 // 7)"
   ]
  },
  {
   "cell_type": "markdown",
   "id": "c353e7d5-3bea-47e1-bf37-869dadcce3c6",
   "metadata": {},
   "source": [
    "This is a really nice feature as it makes Julia an easier language to do symbolic mathematics with. Python can do the same with the [```fractions``` module](https://docs.python.org/3/library/fractions.html), but to define a fraction, you have to make use of the ```Fraction()``` operator, which makes your code look a little messy, so it is nice that Julia makes it easier for us!\n",
    "\n",
    "On the other hand, we have an ```Irrational``` number subtype, which apparently is the subtype where all the [mathematical constants](https://github.com/JuliaLang/julia/blob/master/base/mathconstants.jl) are stored in. It is nice that Julia has a specific data type to store its constants."
   ]
  },
  {
   "cell_type": "code",
   "execution_count": 6,
   "id": "df675cb0-ba6e-423a-839d-ec84ed7cea00",
   "metadata": {},
   "outputs": [
    {
     "name": "stdout",
     "output_type": "stream",
     "text": [
      "2.718281828459045"
     ]
    },
    {
     "data": {
      "text/plain": [
       "Irrational{:ℯ}"
      ]
     },
     "execution_count": 6,
     "metadata": {},
     "output_type": "execute_result"
    }
   ],
   "source": [
    "print(ℯ^1)\n",
    "typeof(ℯ)"
   ]
  },
  {
   "cell_type": "markdown",
   "id": "911765a3-3124-4768-9136-40778553f057",
   "metadata": {},
   "source": [
    "where ```ℯ``` is the Euler constant as shown.\n",
    "\n",
    "At this point, we now go to the usual subtypes when dealing with ```Number```s -- ```AbstractFloat```, and ```Integer```.\n",
    "\n",
    "As expected, there are different subtypes of ```AbstractFloat``` and ```Integer```, depending on the number of bits are using to store the number into the computer's memory -- 8 bits, 16 bits, 32 bits, 62 bits, and 128 bits for ```Integers```, and 16 bits, 32 bits, and 64 bits for ```AbstractFloat```. As seen in the subtype tree, we also see that there is a ```BigInt``` and ```BigFloat```. As we saw in Session 2, [```BigInt```](https://docs.julialang.org/en/v1/base/numbers/#Base.GMP.BigInt) is a datatype that handles arbitrarily large integers. And in the same vein, [```BigFloat```](https://docs.julialang.org/en/v1/base/numbers/#Base.MPFR.BigFloat) is a datatype that handles arbitarily large floating point numbers.\n",
    "\n",
    "After going down the tree using ```subtype```, we note that we can go the other way around using ```supertype```. In the code shown, we look at the supertype chain starting from ```BigFloat```."
   ]
  },
  {
   "cell_type": "code",
   "execution_count": 7,
   "id": "a3a7652b-335f-4003-bd3f-dbbd2df7117d",
   "metadata": {},
   "outputs": [
    {
     "name": "stdout",
     "output_type": "stream",
     "text": [
      "BigFloat\n",
      "AbstractFloat\n",
      "Real\n",
      "Number\n"
     ]
    }
   ],
   "source": [
    "data_type = BigFloat\n",
    "\n",
    "while data_type != Any\n",
    "    println(data_type)\n",
    "    data_type = supertype(data_type)\n",
    "end"
   ]
  },
  {
   "cell_type": "markdown",
   "id": "f9f8e3e1",
   "metadata": {},
   "source": [
    "# KR2 Constructing ```struct```s\n",
    "\n",
    "Reading about ```struct```s, the first impression I got was that it acted like a class -- it was an object that you could use to store data referring to a single object, like a simple point mass. Normally, when we define a point mass, we have to define its position, velocity, acceleration, and mass individually. With the help of a ```struct```, we can compile all of these properties into one ```struct``` named ```PointMass``` for example, so that when we want to define a point mass, we can just call store the values of its properties into one data type,  ```PointMass```.\n",
    "\n",
    "With ```struct```s, like ```class```es, you can put functions inside them so that once you have the basic properties, you can get back a derived property that you are most likely going to use later on in your program. However, apparently this is [not necessarily true](https://www.fluentcpp.com/2017/06/13/the-real-difference-between-struct-class/) all the time. While you can do pretty much the same basic things with ```struct```s as you would with ```class```es, there are some limitations. In the raw sense, ```struct```s are static variables, which mean you cannot change their values once you initialize them.\n",
    "\n",
    "To give an example, let us define our own ```struct``` influenced by music."
   ]
  },
  {
   "cell_type": "code",
   "execution_count": 8,
   "id": "72246e87-f6e7-46cd-9a2b-2f57d8eb0caf",
   "metadata": {},
   "outputs": [],
   "source": [
    "struct InstrumentTimbre\n",
    "    amplitude_color::Vector{Float64}\n",
    "    frequency_color::Vector{Int16}\n",
    "end"
   ]
  },
  {
   "cell_type": "markdown",
   "id": "e4517416",
   "metadata": {},
   "source": [
    "Our struct here is used to store the timbre of a musical instrument. Every musical instrument has its own timbre, i.e. distinct characteristic sound, that can be measured by looking at the Fourier transform of the sound it makes. So to mimic it, we store the frequency/harmonics it produces, and their corresponding amplitudes. Further, we define amplitudes to be a floating point number, while frequencies to be only integers from 1 Hz to 32767 Hz, which is more than enough for us.\n",
    "\n",
    "Another thing I noticed while making this is that once you defined the struct, you can no longer modify it, so let's say I defined my struct to take in ```Vectors```, but decided that one should have a vector of ```Float64``` numbers while the other, ```Int16```. To do so, I have to restart the kernel and run it because after running it once and naively modifying it, Julia will throw an exception saying I have an invalid redefinition of my struct. One extra thing to take note of!\n",
    "\n",
    "Ok, let's try to use our newly made ```struct```. Let us define an imaginary instrument with amplitude color of ```amp``` and frequency color of ```freq```, and define a variable ```theo_inst``` that has these properties."
   ]
  },
  {
   "cell_type": "code",
   "execution_count": 21,
   "id": "444a3ea3",
   "metadata": {},
   "outputs": [
    {
     "data": {
      "text/plain": [
       "InstrumentTimbre([0.19257820508258727, 0.3974622563099939, 0.3489329646540975, 0.7219512358278735, 0.836661777671494, 0.6855430337924562, 0.4859501131164805, 0.7817197807734115, 0.3499584001605385, 0.7042007126296368  …  0.6686687554434465, 0.21659950785945403, 0.510355247326874, 0.7973362444125665, 0.7126537559906525, 0.5015292745510369, 0.28011677993608086, 0.38679950715589384, 0.8686218098999308, 0.42377222037496765], Int16[1, 2, 3, 4, 5, 6, 7, 8, 9, 10  …  32758, 32759, 32760, 32761, 32762, 32763, 32764, 32765, 32766, 32767])"
      ]
     },
     "execution_count": 21,
     "metadata": {},
     "output_type": "execute_result"
    }
   ],
   "source": [
    "amp = rand(32767)\n",
    "freq = 1:32767\n",
    "\n",
    "theo_inst = InstrumentTimbre(amp, freq)"
   ]
  },
  {
   "cell_type": "markdown",
   "id": "59cfed49",
   "metadata": {},
   "source": [
    "So that when we want to retrieve the properties of this instrument such as the ```amplitude color```, we can simply call."
   ]
  },
  {
   "cell_type": "code",
   "execution_count": 25,
   "id": "0f8a115c",
   "metadata": {},
   "outputs": [
    {
     "data": {
      "text/plain": [
       "32767-element Vector{Float64}:\n",
       " 0.19257820508258727\n",
       " 0.3974622563099939\n",
       " 0.3489329646540975\n",
       " 0.7219512358278735\n",
       " 0.836661777671494\n",
       " 0.6855430337924562\n",
       " 0.4859501131164805\n",
       " 0.7817197807734115\n",
       " 0.3499584001605385\n",
       " 0.7042007126296368\n",
       " 0.808802546082102\n",
       " 0.3570620147420649\n",
       " 0.22776252425003674\n",
       " ⋮\n",
       " 0.08063480505388121\n",
       " 0.3126471159795352\n",
       " 0.6686687554434465\n",
       " 0.21659950785945403\n",
       " 0.510355247326874\n",
       " 0.7973362444125665\n",
       " 0.7126537559906525\n",
       " 0.5015292745510369\n",
       " 0.28011677993608086\n",
       " 0.38679950715589384\n",
       " 0.8686218098999308\n",
       " 0.42377222037496765"
      ]
     },
     "execution_count": 25,
     "metadata": {},
     "output_type": "execute_result"
    }
   ],
   "source": [
    "theo_inst.amplitude_color"
   ]
  },
  {
   "cell_type": "markdown",
   "id": "535452a2",
   "metadata": {},
   "source": [
    "Like classes, we can define multiple theoretical instruments using our ```struct```, however we cannot modify the properties of these theoretical instruments once they have been instantiated. For example, let us try to change the ```amplitude_color``` of ```theo_inst```."
   ]
  },
  {
   "cell_type": "code",
   "execution_count": 27,
   "id": "6464ad08",
   "metadata": {},
   "outputs": [
    {
     "ename": "LoadError",
     "evalue": "setfield! immutable struct of type InstrumentTimbre cannot be changed",
     "output_type": "error",
     "traceback": [
      "setfield! immutable struct of type InstrumentTimbre cannot be changed",
      "",
      "Stacktrace:",
      " [1] setproperty!(x::InstrumentTimbre, f::Symbol, v::Vector{Float64})",
      "   @ Base .\\Base.jl:34",
      " [2] top-level scope",
      "   @ In[27]:3",
      " [3] eval",
      "   @ .\\boot.jl:360 [inlined]",
      " [4] include_string(mapexpr::typeof(REPL.softscope), mod::Module, code::String, filename::String)",
      "   @ Base .\\loading.jl:1116"
     ]
    }
   ],
   "source": [
    "new_amp = rand(32767)\n",
    "\n",
    "theo_inst.amplitude_color = new_amp"
   ]
  },
  {
   "cell_type": "markdown",
   "id": "b823324b",
   "metadata": {},
   "source": [
    "Which is because the object ```theo_inst``` is stored into a specific location in memory and as was shown in the session, Julia does not allow changes in values stored in a specific reference location.\n",
    "\n",
    "To alleviate this, we can define a ```mutable struct``` version of the ```struct``` as follows."
   ]
  },
  {
   "cell_type": "code",
   "execution_count": 28,
   "id": "9222d098",
   "metadata": {},
   "outputs": [],
   "source": [
    "mutable struct InstrumentTimbreMut\n",
    "    amplitude_color::Vector{Float64}\n",
    "    frequency_color::Vector{Int16}\n",
    "end"
   ]
  },
  {
   "cell_type": "markdown",
   "id": "44e802a0",
   "metadata": {},
   "source": [
    "Then defining a new theoretical instrument ```theo_inst_2```,"
   ]
  },
  {
   "cell_type": "code",
   "execution_count": 31,
   "id": "40c9d0de",
   "metadata": {},
   "outputs": [
    {
     "data": {
      "text/plain": [
       "InstrumentTimbreMut([0.2833601866234261, 0.8994534632421041, 0.12544135171167436, 0.3361867422216027, 0.4291921297816532, 0.14743946238982697, 0.1353119324129337, 0.9516480140900014, 0.44669221097244494, 0.8404240440236164  …  0.6691532751216638, 0.5717677436770405, 0.7221382564045389, 0.8083640782547503, 0.14011611984764105, 0.3732783893701821, 0.08085238084668855, 0.14452656776811046, 0.10057546208917323, 0.7371278947635724], Int16[1, 2, 3, 4, 5, 6, 7, 8, 9, 10  …  32758, 32759, 32760, 32761, 32762, 32763, 32764, 32765, 32766, 32767])"
      ]
     },
     "execution_count": 31,
     "metadata": {},
     "output_type": "execute_result"
    }
   ],
   "source": [
    "amp_mut = rand(32767)\n",
    "freq_mut = 1:32767\n",
    "\n",
    "theo_inst_2 = InstrumentTimbreMut(amp_mut, freq_mut)"
   ]
  },
  {
   "cell_type": "markdown",
   "id": "1ea8f01f",
   "metadata": {},
   "source": [
    "Then change the values of ```amp_mut```,"
   ]
  },
  {
   "cell_type": "code",
   "execution_count": 32,
   "id": "fb83fa70",
   "metadata": {},
   "outputs": [
    {
     "data": {
      "text/plain": [
       "InstrumentTimbreMut([0.851300509777976, 0.004314842143400277, 1.7594899185099497, 0.8018651950194995, 1.2137284771228694, 1.5095772761474953, 0.7076036111689801, 1.171730102074521, 0.4606756083332768, 0.47609594183139414  …  1.8652136835042357, 0.8619203415603334, 1.3532897436150075, 1.9984485551204627, 0.7815376857465353, 0.31331120456844763, 0.26535202116226086, 1.8089615703522655, 1.0425872668307874, 1.5985177811770384], Int16[1, 2, 3, 4, 5, 6, 7, 8, 9, 10  …  32758, 32759, 32760, 32761, 32762, 32763, 32764, 32765, 32766, 32767])"
      ]
     },
     "execution_count": 32,
     "metadata": {},
     "output_type": "execute_result"
    }
   ],
   "source": [
    "amp_mut_2 = 2.0*rand(32767)\n",
    "\n",
    "theo_inst_2.amplitude_color = amp_mut_2\n",
    "\n",
    "theo_inst_2"
   ]
  },
  {
   "cell_type": "markdown",
   "id": "f6b3b061",
   "metadata": {},
   "source": [
    "Then Julia allows us to change these properties easily. However, this appear to defeat the purpose of ```struct``` since if you would want to do this, then it would be better to define a class instead. From this example, we see that ```struct```s can be used to create lookup tables to make it easier lookup values that you would want to get back to anytime in your code.\n",
    "\n",
    "There is another type of ```struct``` that you can make in Julia, that is the parametrized ```struct```. With this ```struct```, you may define an object that can take in any type of data (or can be restricted to one supertype), and Julia would be able to determine which object property will store which.\n",
    "\n",
    "When we try to parametrize our ```InstrumentTimbre``` ```struct```, we see that it won't best to do so since it requires a specific data type. In this case, let us define a different ```struct``` that allows this. Thus, to demonstrate this, let us define another ```struct``` that stores the momentum and energy of an object."
   ]
  },
  {
   "cell_type": "code",
   "execution_count": 2,
   "id": "fa571ebe",
   "metadata": {},
   "outputs": [],
   "source": [
    "struct MomentumEnergyPar{T<:Number}\n",
    "    momentum::Vector{T}\n",
    "    energy::T\n",
    "end"
   ]
  },
  {
   "cell_type": "markdown",
   "id": "11a62838",
   "metadata": {},
   "source": [
    "Doing so makes the most out of parametrized ```struct```s as it defines a ```struct``` with object properties with abstract data types, thus when we instantiate it, we immediately see which variable data type will go to which object property."
   ]
  },
  {
   "cell_type": "code",
   "execution_count": 4,
   "id": "c9c91fe0",
   "metadata": {},
   "outputs": [
    {
     "data": {
      "text/plain": [
       "MomentumEnergyPar{Float64}([2.962367748310063, 1.8533031354767782], 3.25)"
      ]
     },
     "execution_count": 4,
     "metadata": {},
     "output_type": "execute_result"
    }
   ],
   "source": [
    "particle_momentum = 5.0*rand(2)\n",
    "particle_energy = 3.25\n",
    "\n",
    "particle_momenergy = MomentumEnergyPar(particle_momentum, particle_energy)"
   ]
  },
  {
   "cell_type": "markdown",
   "id": "ec055281",
   "metadata": {},
   "source": [
    "# KR3 Type Inferencing in Julia\n",
    "\n",
    "Like in Python, Julia can immediately infer the data type you are using depending on the expression or values you input in your expressions. An immediate example would be as follows."
   ]
  },
  {
   "cell_type": "code",
   "execution_count": 5,
   "id": "8f14f08a",
   "metadata": {},
   "outputs": [
    {
     "data": {
      "text/plain": [
       "5-element Vector{Int64}:\n",
       " 1\n",
       " 2\n",
       " 3\n",
       " 4\n",
       " 5"
      ]
     },
     "execution_count": 5,
     "metadata": {},
     "output_type": "execute_result"
    }
   ],
   "source": [
    "[x for x in 1:5]"
   ]
  },
  {
   "cell_type": "code",
   "execution_count": 6,
   "id": "b7bb5c7c",
   "metadata": {},
   "outputs": [
    {
     "data": {
      "text/plain": [
       "5-element Vector{Float64}:\n",
       " 1.0\n",
       " 0.5\n",
       " 0.3333333333333333\n",
       " 0.25\n",
       " 0.2"
      ]
     },
     "execution_count": 6,
     "metadata": {},
     "output_type": "execute_result"
    }
   ],
   "source": [
    "[1/x for x in 1:5]"
   ]
  },
  {
   "cell_type": "markdown",
   "id": "7a3c7ff1",
   "metadata": {},
   "source": [
    "So notice that while we were inputting integers in our generator expressions, Julia was immediately able to infer the data type we are expected to get, that is for ```x``` we will expect an integer, while for ```1/x``` we will expect a floating point number.\n",
    "\n",
    "# KR4 Inherent Type-Stability in Julia\n",
    "\n"
   ]
  },
  {
   "cell_type": "code",
   "execution_count": null,
   "id": "5c2c4a6a",
   "metadata": {},
   "outputs": [],
   "source": []
  }
 ],
 "metadata": {
  "kernelspec": {
   "display_name": "Julia 1.6.2",
   "language": "julia",
   "name": "julia-1.6"
  },
  "language_info": {
   "file_extension": ".jl",
   "mimetype": "application/julia",
   "name": "julia",
   "version": "1.6.2"
  }
 },
 "nbformat": 4,
 "nbformat_minor": 5
}
